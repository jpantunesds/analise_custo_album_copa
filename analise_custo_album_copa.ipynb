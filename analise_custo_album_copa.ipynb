{
  "nbformat": 4,
  "nbformat_minor": 0,
  "metadata": {
    "colab": {
      "provenance": [],
      "collapsed_sections": []
    },
    "kernelspec": {
      "name": "python3",
      "display_name": "Python 3"
    },
    "language_info": {
      "name": "python"
    },
    "widgets": {
      "application/vnd.jupyter.widget-state+json": {
        "4bb4f0b25a0a45ce95fbdf9935e96da3": {
          "model_module": "@jupyter-widgets/controls",
          "model_name": "IntSliderModel",
          "model_module_version": "1.5.0",
          "state": {
            "_dom_classes": [],
            "_model_module": "@jupyter-widgets/controls",
            "_model_module_version": "1.5.0",
            "_model_name": "IntSliderModel",
            "_view_count": null,
            "_view_module": "@jupyter-widgets/controls",
            "_view_module_version": "1.5.0",
            "_view_name": "IntSliderView",
            "continuous_update": true,
            "description": "",
            "description_tooltip": null,
            "disabled": false,
            "layout": "IPY_MODEL_6ac29d097c3f4d2c95e25af5da637463",
            "max": 20,
            "min": 0,
            "orientation": "horizontal",
            "readout": true,
            "readout_format": "d",
            "step": 1,
            "style": "IPY_MODEL_fa0aa9b9a21e4dfd9c0bb1fe6bc51a37",
            "value": 5
          }
        },
        "6ac29d097c3f4d2c95e25af5da637463": {
          "model_module": "@jupyter-widgets/base",
          "model_name": "LayoutModel",
          "model_module_version": "1.2.0",
          "state": {
            "_model_module": "@jupyter-widgets/base",
            "_model_module_version": "1.2.0",
            "_model_name": "LayoutModel",
            "_view_count": null,
            "_view_module": "@jupyter-widgets/base",
            "_view_module_version": "1.2.0",
            "_view_name": "LayoutView",
            "align_content": null,
            "align_items": null,
            "align_self": null,
            "border": null,
            "bottom": null,
            "display": null,
            "flex": null,
            "flex_flow": null,
            "grid_area": null,
            "grid_auto_columns": null,
            "grid_auto_flow": null,
            "grid_auto_rows": null,
            "grid_column": null,
            "grid_gap": null,
            "grid_row": null,
            "grid_template_areas": null,
            "grid_template_columns": null,
            "grid_template_rows": null,
            "height": null,
            "justify_content": null,
            "justify_items": null,
            "left": null,
            "margin": null,
            "max_height": null,
            "max_width": null,
            "min_height": null,
            "min_width": null,
            "object_fit": null,
            "object_position": null,
            "order": null,
            "overflow": null,
            "overflow_x": null,
            "overflow_y": null,
            "padding": null,
            "right": null,
            "top": null,
            "visibility": null,
            "width": null
          }
        },
        "fa0aa9b9a21e4dfd9c0bb1fe6bc51a37": {
          "model_module": "@jupyter-widgets/controls",
          "model_name": "SliderStyleModel",
          "model_module_version": "1.5.0",
          "state": {
            "_model_module": "@jupyter-widgets/controls",
            "_model_module_version": "1.5.0",
            "_model_name": "SliderStyleModel",
            "_view_count": null,
            "_view_module": "@jupyter-widgets/base",
            "_view_module_version": "1.2.0",
            "_view_name": "StyleView",
            "description_width": "",
            "handle_color": null
          }
        }
      }
    }
  },
  "cells": [
    {
      "cell_type": "markdown",
      "source": [
        "# Projeto álbum da copa do mundo 2022"
      ],
      "metadata": {
        "id": "53IaBPEsUFiu"
      }
    },
    {
      "cell_type": "markdown",
      "source": [
        "![Álbum da copa](https://tm.ibxk.com.br/2022/09/05/05142651246105.jpg?ims=1120x420)"
      ],
      "metadata": {
        "id": "VFKc4M_m0OrK"
      }
    },
    {
      "cell_type": "markdown",
      "source": [
        "## Contexto\n",
        "Poucos eventos têm o potencial de mexer com o coração do brasileiro como a copa do mundo. Esta que é a principal competição de futebol do mundo, acontece de 4 em 4 anos, e com ela vem a febre: os álbuns de figurinhas da copa do mundo.\n",
        "\n",
        "O sucesso é certo e nas bancas de jornais crianças e adultos fazem fila para adquirir o produto. Nas mídias não é raro ver matérias como: \"como completar o álbum da copa\" ou \"quanto custa para completar o álbum da copa\".\n",
        "\n",
        "Neste contexto, até mesmo uma pessoa que não é tão fã do esporte, fica curiosa a respeito desse produto pelo qual tantos são apaixonados.\n",
        "\n",
        "Esta análise diz respeito ao álbum da Copa do Mundo 2022 da editora Panini, a principal fabricante destes produtos atualmente."
      ],
      "metadata": {
        "id": "zaWevmXPUet9"
      }
    },
    {
      "cell_type": "markdown",
      "source": [
        "## Informações\n",
        "\n",
        "\n",
        "\n",
        "*   Total de cromos: 670\n",
        "*   Preço do envelope com 5 figurinhas: R$ 4,00\n",
        "\n",
        "\n",
        "*   Preço do álbum de capa dura: R$ 35,00"
      ],
      "metadata": {
        "id": "CXluvrvizTpO"
      }
    },
    {
      "cell_type": "markdown",
      "source": [
        "## Suposições\n",
        "\n",
        "1.   Todas as figurinhas tem igual probabilidade de serem sorteradas.*\n",
        "2.   Um pacotinho é comprado por vez até que se complete o álbum.\n",
        "\n",
        "*O que é verdade com exceção dos [cromos extras](https://www1.folha.uol.com.br/esporte/2022/08/album-da-copa-conheca-mitos-e-verdades-das-figurinhas-vendidas-por-ate-r-9-mil.shtml#:~:text=Para%20o%20%C3%A1lbum,geralmente%20cont%C3%A9m%20cinco.) (raras), que não são levadas em conta nessa análise.\n",
        "\n",
        "\n",
        "\n"
      ],
      "metadata": {
        "id": "U_AOgTQ770EO"
      }
    },
    {
      "cell_type": "markdown",
      "source": [
        "## Algoritmo\n",
        "\n",
        "1.   Comprar um pacotinho de figurinhas (5 figurinhas cada, que podem ser repetidas);\n",
        "2.   Colar no álbum e verificar se o álbum está completo;\n",
        "3.   Caso esteja incompleto, comprar mais um pacotinho, caso contrário, terminar;\n",
        "4. Simular vários álbuns para obter dados estatísticos.\n",
        "\n"
      ],
      "metadata": {
        "id": "S-m6qxAa9nv5"
      }
    },
    {
      "cell_type": "markdown",
      "source": [
        "## Perguntas\n",
        "\n",
        "1. Qual o valor médio investido para completar o álbum nessas condições?\n",
        "2. Quantos pacotes são necessários comprar, em média, para completar o álbum?\n",
        "3. Qual é a distribuição empírica do valor investido para completar o álbum?\n",
        "4. Qual o valor médio gasto por alguém sortudo (menos cromos repetidos)?\n",
        "5. Qual o valor médio gasto por alguém azarado (mais cromos repetidos)?\n",
        "6. Qual as probabilidade de se gastar mais e menos do que a média para completar o álbum?\n",
        "7. Qual os valores médios gastos caso se esteja completando o álbum com mais pessoas (troca de figurinhas)?"
      ],
      "metadata": {
        "id": "4fNSe0Qc96x1"
      }
    },
    {
      "cell_type": "markdown",
      "source": [
        "## Simulação"
      ],
      "metadata": {
        "id": "glICaIFGCWPV"
      }
    },
    {
      "cell_type": "code",
      "source": [
        "#importação de bibliotecas\n",
        "import ipywidgets as widgets\n",
        "from IPython.display import display\n",
        "import numpy as np\n",
        "import math as ma"
      ],
      "metadata": {
        "id": "SoEFw13v61f-"
      },
      "execution_count": 89,
      "outputs": []
    },
    {
      "cell_type": "code",
      "source": [
        "# declaração de variáveis (fixas)\n",
        "n_album = 670\n",
        "preco_envelope = 4.00\n",
        "cromos_por_envelope = 5\n",
        "preco_album = 35.00\n",
        "simulacoes = 10000"
      ],
      "metadata": {
        "id": "uppfxHTs_7T6"
      },
      "execution_count": 94,
      "outputs": []
    },
    {
      "cell_type": "code",
      "source": [
        "# representação do álbum (array do tamanho do album com zeros)\n",
        "album = np.zeros(n_album) \n",
        "\n",
        "# representação do envelope de figurinhas (escolha aleatória de 5 figurinhas dentre as 670 possíveis)\n",
        "envelope = np.random.choice(range(n_album), cromos_por_envelope)\n",
        "\n",
        "# 'colando' as figurinhas obtidas no álbum (conta as figurinhas que tiramos)\n",
        "for i in envelope:\n",
        "    album[i] += 1"
      ],
      "metadata": {
        "id": "t5ekh5bnAsmO"
      },
      "execution_count": 95,
      "outputs": []
    },
    {
      "cell_type": "code",
      "source": [
        "# comprando figurinhas até completar o álbum\n",
        "def SimAlbum():\n",
        "    album = np.zeros(n_album) \n",
        "    envelopes = 0\n",
        "    while not np.all(album >= 1):\n",
        "        envelope = np.random.choice(range(n_album), 5)\n",
        "        envelopes += 1\n",
        "\n",
        "        for i in envelope:\n",
        "            album[i] += 1\n",
        " \n",
        "    valor_gasto = preco_album + preco_envelope * envelopes \n",
        "\n",
        "    return valor_gasto, envelopes\n",
        "\n",
        "SimAlbum()"
      ],
      "metadata": {
        "colab": {
          "base_uri": "https://localhost:8080/"
        },
        "id": "BlLoGINaBmyb",
        "outputId": "162f1c58-c58c-4332-a2ce-9dc97aa97426"
      },
      "execution_count": 96,
      "outputs": [
        {
          "output_type": "execute_result",
          "data": {
            "text/plain": [
              "(4347.0, 1078)"
            ]
          },
          "metadata": {},
          "execution_count": 96
        }
      ]
    },
    {
      "cell_type": "code",
      "source": [
        "# simula completar vários álbuns \n",
        "def Simulacao(simulacoes, acabou = False):\n",
        "    valores = []\n",
        "    for i in range(simulacoes):\n",
        "        valores.append(SimAlbum()[0])\n",
        "        if not acabou:\n",
        "            if (i+1) % 1000 == 0:\n",
        "                print('Simulação: ', i+1, '/', simulacoes)                \n",
        "    return valores\n",
        "\n",
        "sim = Simulacao(simulacoes)"
      ],
      "metadata": {
        "colab": {
          "base_uri": "https://localhost:8080/"
        },
        "id": "1o_EEjE2DKoR",
        "outputId": "b5a3a154-660f-4b6e-cb78-c55d7ceb0478"
      },
      "execution_count": 98,
      "outputs": [
        {
          "output_type": "stream",
          "name": "stdout",
          "text": [
            "Simulação:  1000 / 10000\n",
            "Simulação:  2000 / 10000\n",
            "Simulação:  3000 / 10000\n",
            "Simulação:  4000 / 10000\n",
            "Simulação:  5000 / 10000\n",
            "Simulação:  6000 / 10000\n",
            "Simulação:  7000 / 10000\n",
            "Simulação:  8000 / 10000\n",
            "Simulação:  9000 / 10000\n",
            "Simulação:  10000 / 10000\n"
          ]
        }
      ]
    },
    {
      "cell_type": "markdown",
      "source": [
        "## Análise"
      ],
      "metadata": {
        "id": "bchxwGzZCzcs"
      }
    },
    {
      "cell_type": "markdown",
      "source": [
        "### 1. Qual o valor médio investido para completar o álbum nessas condições?"
      ],
      "metadata": {
        "id": "TssQ5HeV67U9"
      }
    },
    {
      "cell_type": "code",
      "source": [
        "# Qual o valor médio investido para completar o álbum nessas condições?\n",
        "print('O valor médio gasto foi: R$ ', round(np.mean(sim), 2))"
      ],
      "metadata": {
        "colab": {
          "base_uri": "https://localhost:8080/"
        },
        "id": "clyhsTD0D5Pt",
        "outputId": "81ccf8d8-a253-4ed5-e88e-aea902219823"
      },
      "execution_count": 99,
      "outputs": [
        {
          "output_type": "stream",
          "name": "stdout",
          "text": [
            "O valor médio gasto foi: R$  3839.96\n"
          ]
        }
      ]
    },
    {
      "cell_type": "markdown",
      "source": [
        "### 2. Quantos pacotes são necessários comprar, em média, para completar o álbum?"
      ],
      "metadata": {
        "id": "j54mQMpE7Hcj"
      }
    },
    {
      "cell_type": "code",
      "source": [
        "# Quantos enevelopes são necessários comprar, em média, para completar o álbum?\n",
        "print('O numero de envelopes médio foi:', round((np.mean(sim) - preco_album)/preco_envelope, 2))"
      ],
      "metadata": {
        "colab": {
          "base_uri": "https://localhost:8080/"
        },
        "id": "nkDEvTXp7LMj",
        "outputId": "975ef69e-7ed7-4f69-dbac-a737172a56e6"
      },
      "execution_count": 100,
      "outputs": [
        {
          "output_type": "stream",
          "name": "stdout",
          "text": [
            "O numero de envelopes médio foi: 951.24\n"
          ]
        }
      ]
    },
    {
      "cell_type": "markdown",
      "source": [
        "### 3. Qual é a distribuição empírica do valor investido para completar o álbum?"
      ],
      "metadata": {
        "id": "TET9vJAb7WBC"
      }
    },
    {
      "cell_type": "code",
      "source": [
        "# Qual é a distribuição empírica do valor investido para completar o álbum?\n",
        "import matplotlib.pyplot as plt\n",
        "plt.hist(sim, bins = 50, density = False, color = 'forestgreen', edgecolor = 'black')\n",
        "plt.title('Distribuição Empírica do Valor Gasto para Completar o Álbum')\n",
        "plt.show()"
      ],
      "metadata": {
        "colab": {
          "base_uri": "https://localhost:8080/",
          "height": 283
        },
        "id": "-GZRYl2DHrdj",
        "outputId": "285e516d-e190-4bd6-cfb3-32e0b9198446"
      },
      "execution_count": 101,
      "outputs": [
        {
          "output_type": "display_data",
          "data": {
            "text/plain": [
              "<Figure size 432x288 with 1 Axes>"
            ],
            "image/png": "[encoded data removed]"
          },
          "metadata": {
            "needs_background": "light"
          }
        }
      ]
    },
    {
      "cell_type": "markdown",
      "source": [
        "### 4. Qual o valor médio gasto por alguém sortudo (menos cromos repetidos)?"
      ],
      "metadata": {
        "id": "Tp7JVYZ77bhq"
      }
    },
    {
      "cell_type": "code",
      "source": [
        "# Qual o valor médio gasto por alguém sortudo (menos cromos repetidos)?\n",
        "p10 = []\n",
        "for valor in sim:\n",
        "  if valor <= np.quantile(sim, .10):\n",
        "    p10.append(valor)\n",
        "md_srt = np.mean(p10)\n",
        "print(f'O valor médio gasto pelos 10% mais sortudos é: R$ {md_srt:.2f}',)"
      ],
      "metadata": {
        "colab": {
          "base_uri": "https://localhost:8080/"
        },
        "id": "9RVv6RBv7hCq",
        "outputId": "a41695cb-6532-4a17-9872-fd9aba1ff355"
      },
      "execution_count": 102,
      "outputs": [
        {
          "output_type": "stream",
          "name": "stdout",
          "text": [
            "O valor médio gasto pelos 10% mais sortudos é: R$ 2913.40\n"
          ]
        }
      ]
    },
    {
      "cell_type": "markdown",
      "source": [
        "### 5. Qual o valor médio gasto por alguém azarado (mais cromos repetidos)?"
      ],
      "metadata": {
        "id": "2vHNw9xe7b2S"
      }
    },
    {
      "cell_type": "code",
      "source": [
        "#Qual o valor gasto por alguém azarado (mais cromos repetidos)?\n",
        "p90 = []\n",
        "for valor in sim:\n",
        "  if valor >= np.quantile(sim, .90):\n",
        "    p90.append(valor)\n",
        "md_azr = np.mean(p90)\n",
        "print(f'O valor médio gasto pelos 10% mais azarados é: R$ {md_azr:.2f}')"
      ],
      "metadata": {
        "colab": {
          "base_uri": "https://localhost:8080/"
        },
        "id": "ToR3z5dQI_kd",
        "outputId": "9ecbf074-a042-4ecc-ba16-d0442b70fe07"
      },
      "execution_count": 103,
      "outputs": [
        {
          "output_type": "stream",
          "name": "stdout",
          "text": [
            "O valor médio gasto pelos 10% mais azarados é: R$ 5307.49\n"
          ]
        }
      ]
    },
    {
      "cell_type": "markdown",
      "source": [
        "###  A seguir duas perguntas que não foram levantadas inicialmente, mas também é interessante saber:\n",
        "\n",
        "*   Quanto gastou o indivíduo mais sortudo e quantos envelopes ele comprou?\n",
        "*   Quanto gastou o indivíduo mais azarado e quantos envelopes ele comprou?\n",
        "\n",
        "\n"
      ],
      "metadata": {
        "id": "BEk1CO_h8zwm"
      }
    },
    {
      "cell_type": "code",
      "source": [
        "# Quanto gastou o indivíduo mais azarado e quantos envelopes ele comprou?\n",
        "azarado = np.max(sim)\n",
        "n_env_a = int((azarado - preco_album) / preco_envelope)\n",
        "print(f'O indivíduo mais azarado gastou R$ {azarado:.2f} e comprou {n_env_a} envelopes.')"
      ],
      "metadata": {
        "colab": {
          "base_uri": "https://localhost:8080/"
        },
        "id": "K-NSo82LKmIu",
        "outputId": "04e73f95-607e-428a-8968-fb82dc3f9274"
      },
      "execution_count": 104,
      "outputs": [
        {
          "output_type": "stream",
          "name": "stdout",
          "text": [
            "O indivíduo mais azarado gastou R$ 8763.00 e comprou 2182 envelopes.\n"
          ]
        }
      ]
    },
    {
      "cell_type": "code",
      "source": [
        "# Quanto gastou o indivíduo mais sortudo e quantos envelopes ele comprou?\n",
        "sortudo = np.min(sim)\n",
        "n_env_s = int((sortudo - preco_album) / preco_envelope)\n",
        "print(f'O indivíduo mais sortudo gastou R$ {sortudo:.2f} e comprou {n_env_s} envelopes.')"
      ],
      "metadata": {
        "colab": {
          "base_uri": "https://localhost:8080/"
        },
        "id": "niv7xsGH9HAV",
        "outputId": "596d13d5-147b-4fd5-a0d3-97d8aa880f20"
      },
      "execution_count": 105,
      "outputs": [
        {
          "output_type": "stream",
          "name": "stdout",
          "text": [
            "O indivíduo mais sortudo gastou R$ 2383.00 e comprou 587 envelopes.\n"
          ]
        }
      ]
    },
    {
      "cell_type": "markdown",
      "source": [
        "### 6. Qual as probabilidade de se gastar mais e menos do que a média para completar o álbum?"
      ],
      "metadata": {
        "id": "f5r7n4Pt8J9_"
      }
    },
    {
      "cell_type": "code",
      "source": [
        "# Qual as probabilidade de se gastar mais e menos do que a média para completar o álbum?\n",
        " \n",
        "prob_menos = sum(np.array(sim) < np.array(sim).mean()) / simulacoes\n",
        "prob_mais = sum(np.array(sim) > np.array(sim).mean()) / simulacoes\n",
        " \n",
        "print('A probabilidade de se gastar menos do a média é {:.2f}%'.format(prob_menos*100))\n",
        "print('A probabilidade de se gastar mais do que a média é {:.2f}%'.format(prob_mais*100))"
      ],
      "metadata": {
        "colab": {
          "base_uri": "https://localhost:8080/"
        },
        "id": "pQuDBfLHz7Sw",
        "outputId": "b6c0c883-dede-4264-b56d-f77afdc7cb7a"
      },
      "execution_count": 106,
      "outputs": [
        {
          "output_type": "stream",
          "name": "stdout",
          "text": [
            "A probabilidade de se gastar menos do a média é 57.15%\n",
            "A probabilidade de se gastar mais do que a média é 42.85%\n"
          ]
        }
      ]
    },
    {
      "cell_type": "markdown",
      "source": [
        "###  A seguir mais duas perguntas que não foram levantadas inicialmente, mas também é interessante saber:\n",
        "\n",
        "*   Qual a probabilidade de se completar um álbum gastando menos de R$ 2.500?\n",
        "\n",
        "*   Qual a probabilidade de se completar um álbum gastando mais de R$ 5.000?"
      ],
      "metadata": {
        "id": "9AiYs0l_-fPp"
      }
    },
    {
      "cell_type": "code",
      "source": [
        "# Qual a probabilidade de se completar um álbum gastando menos de R$2.500?\n",
        "\n",
        "prob_2500 = sum(np.array(sim) < 2500) / simulacoes\n",
        "print('A probabilidade de se gastar menos do que R$2.500 é {:.2f}%'.format(prob_2500*100))\n",
        "\n",
        "# Qual a probabilidade de se completar um álbum gastando mais de R$5.000?\n",
        "\n",
        "prob_2500 = sum(np.array(sim) > 4000) / simulacoes\n",
        "print('A probabilidade de se gastar mais do que R$4.000 é {:.2f}%'.format(prob_2500*100))"
      ],
      "metadata": {
        "colab": {
          "base_uri": "https://localhost:8080/"
        },
        "id": "gCvE1EvC3ow5",
        "outputId": "436fbc06-6047-4950-b0aa-dee0fe353514"
      },
      "execution_count": 107,
      "outputs": [
        {
          "output_type": "stream",
          "name": "stdout",
          "text": [
            "A probabilidade de se gastar menos do que R$2.500 é 0.05%\n",
            "A probabilidade de se gastar mais do que R$4.000 é 33.38%\n"
          ]
        }
      ]
    },
    {
      "cell_type": "markdown",
      "source": [
        "## Troca de figurinhas"
      ],
      "metadata": {
        "id": "FlSklVF4AFlL"
      }
    },
    {
      "cell_type": "markdown",
      "source": [
        "![Álbum da copa](https://alphavilletenisclube.com.br/wp-content/uploads/2022/09/tdf.jpg)"
      ],
      "metadata": {
        "id": "HT9NAh0j_0CM"
      }
    },
    {
      "cell_type": "markdown",
      "source": [
        "Todo cenário simulado e analisado até agora supoõe um indivíduo que compra envelopes sozinho até completar o álbum, não importando quantos cromos repetidos obtenha no processo. Mas esse não é um cenário muito realista.\n",
        "\n",
        "Usualmente, os colecionadores separarm os cromos (figurinhas) que têm mais de uma unidade (repetidos) e procuram outros colecionadores que possam trocar, reduzindo os custos com a compra de envelopes adicionais.\n",
        "\n",
        "Sendo assim, vamos ajustar a função que simula o completamento de um álbum, para funcionar para uma quantidade variável de álbuns, representando assim uma estratégia de completar o álbum em grupo.\n",
        "\n"
      ],
      "metadata": {
        "id": "KnB84OZ6AP20"
      }
    },
    {
      "cell_type": "markdown",
      "source": [
        "### Simulação com troca"
      ],
      "metadata": {
        "id": "w3qstvjFBz8I"
      }
    },
    {
      "cell_type": "code",
      "source": [
        "print('Selecione a quantidade de amigos para a análise:\\n')\n",
        "slider = widgets.IntSlider(value=20,\n",
        "                  min=0,\n",
        "                  max=20)\n",
        "display(slider)"
      ],
      "metadata": {
        "colab": {
          "base_uri": "https://localhost:8080/",
          "height": 84,
          "referenced_widgets": [
            "4bb4f0b25a0a45ce95fbdf9935e96da3",
            "6ac29d097c3f4d2c95e25af5da637463",
            "fa0aa9b9a21e4dfd9c0bb1fe6bc51a37"
          ]
        },
        "id": "Klh4WkhNBocy",
        "outputId": "a3f7bacd-4775-42ee-b4c9-5915be137f28"
      },
      "execution_count": 108,
      "outputs": [
        {
          "output_type": "stream",
          "name": "stdout",
          "text": [
            "Selecione a quantidade de amigos para a análise:\n",
            "\n"
          ]
        },
        {
          "output_type": "display_data",
          "data": {
            "text/plain": [
              "IntSlider(value=20, max=20)"
            ],
            "application/vnd.jupyter.widget-view+json": {
              "version_major": 2,
              "version_minor": 0,
              "model_id": "4bb4f0b25a0a45ce95fbdf9935e96da3"
            }
          },
          "metadata": {}
        }
      ]
    },
    {
      "cell_type": "code",
      "source": [
        "amigos = int(slider.value)\n",
        "qtd_albuns = amigos+1\n",
        "\n",
        "# comprando figurinhas até completar o álbum\n",
        "def SimAlbumAmigos(qtd_albuns):\n",
        "    album = np.zeros(n_album) \n",
        "    envelopes = 0\n",
        "    while not np.all(album >= qtd_albuns):\n",
        "        envelope = np.random.choice(range(n_album), 5)\n",
        "        envelopes += 1\n",
        "\n",
        "        for i in envelope:\n",
        "            album[i] += 1\n",
        " \n",
        "    valor_gasto = preco_album * qtd_albuns + preco_envelope * envelopes \n",
        "    valor_por_album = valor_gasto / qtd_albuns\n",
        "\n",
        "    return valor_gasto, envelopes, valor_por_album\n",
        "\n",
        "SimAlbumAmigos(qtd_albuns)"
      ],
      "metadata": {
        "colab": {
          "base_uri": "https://localhost:8080/"
        },
        "id": "UpbR8ESc82UQ",
        "outputId": "284da35a-a417-4a02-bb09-633f25607862"
      },
      "execution_count": 117,
      "outputs": [
        {
          "output_type": "execute_result",
          "data": {
            "text/plain": [
              "(11130.0, 2730, 1855.0)"
            ]
          },
          "metadata": {},
          "execution_count": 117
        }
      ]
    },
    {
      "cell_type": "code",
      "source": [
        "def SimulacaoAmigos(qtd_albuns, simulacoes, acabou = False):\n",
        "    valores = []\n",
        "    for i in range(simulacoes):\n",
        "        valores.append(SimAlbumAmigos(qtd_albuns)[2])\n",
        "        if not acabou:\n",
        "            if (i+1) % 1000 == 0:\n",
        "                print('Simulação: ', i+1, '/', simulacoes)\n",
        "    return valores\n",
        "\n",
        "sim_amigos = SimulacaoAmigos(qtd_albuns, simulacoes)"
      ],
      "metadata": {
        "colab": {
          "base_uri": "https://localhost:8080/"
        },
        "id": "RgD8r7twC2XW",
        "outputId": "7cdbd5db-8cd9-4aa4-a325-cba7a9fdf51d"
      },
      "execution_count": 118,
      "outputs": [
        {
          "output_type": "stream",
          "name": "stdout",
          "text": [
            "Simulação:  1000 / 10000\n",
            "Simulação:  2000 / 10000\n",
            "Simulação:  3000 / 10000\n",
            "Simulação:  4000 / 10000\n",
            "Simulação:  5000 / 10000\n",
            "Simulação:  6000 / 10000\n",
            "Simulação:  7000 / 10000\n",
            "Simulação:  8000 / 10000\n",
            "Simulação:  9000 / 10000\n",
            "Simulação:  10000 / 10000\n"
          ]
        }
      ]
    },
    {
      "cell_type": "markdown",
      "source": [
        "### 7. Qual os valores médios gastos caso se esteja completando o álbum com mais pessoas (troca de figurinhas)?"
      ],
      "metadata": {
        "id": "_5sa_7py6t50"
      }
    },
    {
      "cell_type": "code",
      "source": [
        "# Qual os valores médios gastos caso se esteja completando o álbum com mais pessoas (troca de figurinhas)?\n",
        "\n",
        "custo_medio_troca = np.array(sim_amigos).mean()\n",
        "custo_medio_so = round(np.mean(sim), 2)\n",
        "\n",
        "print(f'O custo médio é de R$ {custo_medio_troca:.2f} por pessoa caso {amigos} amigos troquem figurinhas entre si.\\n')\n",
        "print(f'Trocar figurinhas entre {amigos} amigos é {(1 - custo_medio_troca / custo_medio_so) * 100:.2f}% mais barato do que completar o álbum sem trocar.')"
      ],
      "metadata": {
        "colab": {
          "base_uri": "https://localhost:8080/"
        },
        "id": "UHFJgU5pHR95",
        "outputId": "f5853359-a57d-4899-9735-8027892e29c5"
      },
      "execution_count": 119,
      "outputs": [
        {
          "output_type": "stream",
          "name": "stdout",
          "text": [
            "O custo médio é de R$ 1522.68 por pessoa caso 5 amigos troquem figurinhas entre si.\n",
            "\n",
            "Trocar figurinhas entre 5 amigos é 60.35% mais barato do que completar o álbum sem trocar.\n"
          ]
        }
      ]
    }
  ]
}